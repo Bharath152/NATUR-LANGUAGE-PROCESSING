{
 "cells": [
  {
   "cell_type": "markdown",
   "id": "2604e8da",
   "metadata": {},
   "source": [
    "# <span style = \"color:green\"> Text-Based Emotion Detection</span>"
   ]
  },
  {
   "cell_type": "markdown",
   "id": "83b510a2",
   "metadata": {},
   "source": [
    "***"
   ]
  },
  {
   "cell_type": "markdown",
   "id": "122f4ced",
   "metadata": {},
   "source": [
    "Emotion detection (ED) is a brach of sentiment analysis that deals with the extraction and analysis of emotions. The evolution of web 2.0 has put text mining and analysis at the frontiers of organizational success. It helps service provider provide tailor-made services to their customers. Numerous studies are being carried out in the area of text mining and analysis due to the ease in sourcing for data and the vast benefits its deliverable offers."
   ]
  },
  {
   "cell_type": "markdown",
   "id": "c909fe91",
   "metadata": {},
   "source": [
    "### Content"
   ]
  },
  {
   "cell_type": "markdown",
   "id": "d524212d",
   "metadata": {},
   "source": [
    "There are two columns\n",
    "* Text\n",
    "* Emotion\n",
    "\n",
    "The emotions column has various categories ranging from happiness to sadness to love and fear."
   ]
  },
  {
   "cell_type": "markdown",
   "id": "aa49470e",
   "metadata": {},
   "source": [
    "## Let's Begin"
   ]
  },
  {
   "cell_type": "markdown",
   "id": "4c7f4fa6",
   "metadata": {},
   "source": [
    "### Import necessary libraries"
   ]
  },
  {
   "cell_type": "code",
   "execution_count": 1,
   "id": "e2dd3101",
   "metadata": {},
   "outputs": [],
   "source": [
    "import numpy as np\n",
    "import pandas as pd\n",
    "import matplotlib.pyplot as plt\n",
    "import seaborn as sns\n",
    "import nltk\n",
    "import re\n",
    "from nltk.tokenize import word_tokenize\n",
    "from nltk.tokenize import sent_tokenize"
   ]
  },
  {
   "cell_type": "markdown",
   "id": "70982212",
   "metadata": {},
   "source": [
    "### Read 'Emotion_final.csv' and store it in a dataframe variable"
   ]
  },
  {
   "cell_type": "code",
   "execution_count": 2,
   "id": "4c6c13a5",
   "metadata": {},
   "outputs": [],
   "source": [
    "df=pd.read_csv('Emotion_final.csv')"
   ]
  },
  {
   "cell_type": "markdown",
   "id": "8997067e",
   "metadata": {},
   "source": [
    "### View head"
   ]
  },
  {
   "cell_type": "code",
   "execution_count": 3,
   "id": "f3d0dbe5",
   "metadata": {},
   "outputs": [
    {
     "data": {
      "text/html": [
       "<div>\n",
       "<style scoped>\n",
       "    .dataframe tbody tr th:only-of-type {\n",
       "        vertical-align: middle;\n",
       "    }\n",
       "\n",
       "    .dataframe tbody tr th {\n",
       "        vertical-align: top;\n",
       "    }\n",
       "\n",
       "    .dataframe thead th {\n",
       "        text-align: right;\n",
       "    }\n",
       "</style>\n",
       "<table border=\"1\" class=\"dataframe\">\n",
       "  <thead>\n",
       "    <tr style=\"text-align: right;\">\n",
       "      <th></th>\n",
       "      <th>Text</th>\n",
       "      <th>Emotion</th>\n",
       "    </tr>\n",
       "  </thead>\n",
       "  <tbody>\n",
       "    <tr>\n",
       "      <th>0</th>\n",
       "      <td>i didnt feel humiliated</td>\n",
       "      <td>sadness</td>\n",
       "    </tr>\n",
       "    <tr>\n",
       "      <th>1</th>\n",
       "      <td>i can go from feeling so hopeless to so damned...</td>\n",
       "      <td>sadness</td>\n",
       "    </tr>\n",
       "    <tr>\n",
       "      <th>2</th>\n",
       "      <td>im grabbing a minute to post i feel greedy wrong</td>\n",
       "      <td>anger</td>\n",
       "    </tr>\n",
       "    <tr>\n",
       "      <th>3</th>\n",
       "      <td>i am ever feeling nostalgic about the fireplac...</td>\n",
       "      <td>love</td>\n",
       "    </tr>\n",
       "    <tr>\n",
       "      <th>4</th>\n",
       "      <td>i am feeling grouchy</td>\n",
       "      <td>anger</td>\n",
       "    </tr>\n",
       "  </tbody>\n",
       "</table>\n",
       "</div>"
      ],
      "text/plain": [
       "                                                Text  Emotion\n",
       "0                            i didnt feel humiliated  sadness\n",
       "1  i can go from feeling so hopeless to so damned...  sadness\n",
       "2   im grabbing a minute to post i feel greedy wrong    anger\n",
       "3  i am ever feeling nostalgic about the fireplac...     love\n",
       "4                               i am feeling grouchy    anger"
      ]
     },
     "execution_count": 3,
     "metadata": {},
     "output_type": "execute_result"
    }
   ],
   "source": [
    "df.head()"
   ]
  },
  {
   "cell_type": "code",
   "execution_count": null,
   "id": "6b346f86",
   "metadata": {
    "scrolled": true
   },
   "outputs": [],
   "source": []
  },
  {
   "cell_type": "markdown",
   "id": "f334db80",
   "metadata": {},
   "source": [
    "### Print some of the texts"
   ]
  },
  {
   "cell_type": "code",
   "execution_count": 4,
   "id": "0d9d5a48",
   "metadata": {},
   "outputs": [
    {
     "name": "stdout",
     "output_type": "stream",
     "text": [
      "i didnt feel humiliated\n",
      "i can go from feeling so hopeless to so damned hopeful just from being around someone who cares and is awake\n",
      "im grabbing a minute to post i feel greedy wrong\n",
      "i am ever feeling nostalgic about the fireplace i will know that it is still on the property\n",
      "i am feeling grouchy\n",
      "ive been feeling a little burdened lately wasnt sure why that was\n",
      "ive been taking or milligrams or times recommended amount and ive fallen asleep a lot faster but i also feel like so funny\n",
      "i feel as confused about life as a teenager or as jaded as a year old man\n",
      "i have been with petronas for years i feel that petronas has performed well and made a huge profit\n",
      "i feel romantic too\n"
     ]
    }
   ],
   "source": [
    "for i in range(10):\n",
    "    print(df['Text'][i])"
   ]
  },
  {
   "cell_type": "code",
   "execution_count": null,
   "id": "f244571e",
   "metadata": {
    "scrolled": true
   },
   "outputs": [],
   "source": []
  },
  {
   "cell_type": "markdown",
   "id": "d2faeb5a",
   "metadata": {},
   "source": [
    "### Check unique values in Emotion"
   ]
  },
  {
   "cell_type": "code",
   "execution_count": 5,
   "id": "ccc501ef",
   "metadata": {},
   "outputs": [
    {
     "data": {
      "text/plain": [
       "array(['sadness', 'anger', 'love', 'surprise', 'fear', 'happy'],\n",
       "      dtype=object)"
      ]
     },
     "execution_count": 5,
     "metadata": {},
     "output_type": "execute_result"
    }
   ],
   "source": [
    "df['Emotion'].unique()"
   ]
  },
  {
   "cell_type": "code",
   "execution_count": null,
   "id": "978b6c40",
   "metadata": {
    "scrolled": true
   },
   "outputs": [],
   "source": []
  },
  {
   "cell_type": "markdown",
   "id": "84198187",
   "metadata": {},
   "source": [
    "### View info of the dataset"
   ]
  },
  {
   "cell_type": "code",
   "execution_count": 6,
   "id": "d75053e5",
   "metadata": {},
   "outputs": [
    {
     "name": "stdout",
     "output_type": "stream",
     "text": [
      "<class 'pandas.core.frame.DataFrame'>\n",
      "RangeIndex: 21459 entries, 0 to 21458\n",
      "Data columns (total 2 columns):\n",
      " #   Column   Non-Null Count  Dtype \n",
      "---  ------   --------------  ----- \n",
      " 0   Text     21459 non-null  object\n",
      " 1   Emotion  21459 non-null  object\n",
      "dtypes: object(2)\n",
      "memory usage: 335.4+ KB\n"
     ]
    }
   ],
   "source": [
    "df.info()"
   ]
  },
  {
   "cell_type": "code",
   "execution_count": null,
   "id": "0fcc7141",
   "metadata": {
    "scrolled": true
   },
   "outputs": [],
   "source": []
  },
  {
   "cell_type": "markdown",
   "id": "5cee5931",
   "metadata": {},
   "source": [
    "### Check for null values, Remove if any"
   ]
  },
  {
   "cell_type": "code",
   "execution_count": 7,
   "id": "a9561f89",
   "metadata": {},
   "outputs": [
    {
     "data": {
      "text/plain": [
       "Text       0\n",
       "Emotion    0\n",
       "dtype: int64"
      ]
     },
     "execution_count": 7,
     "metadata": {},
     "output_type": "execute_result"
    }
   ],
   "source": [
    "df.isna().sum()"
   ]
  },
  {
   "cell_type": "code",
   "execution_count": null,
   "id": "cc6776de",
   "metadata": {
    "scrolled": true
   },
   "outputs": [],
   "source": []
  },
  {
   "cell_type": "markdown",
   "id": "873f9caa",
   "metadata": {},
   "source": [
    "### Check for duplicates, Remove if any"
   ]
  },
  {
   "cell_type": "code",
   "execution_count": 4,
   "id": "fd034843",
   "metadata": {},
   "outputs": [
    {
     "data": {
      "text/plain": [
       "3"
      ]
     },
     "execution_count": 4,
     "metadata": {},
     "output_type": "execute_result"
    }
   ],
   "source": [
    "df.duplicated().sum()"
   ]
  },
  {
   "cell_type": "code",
   "execution_count": null,
   "id": "970c774c",
   "metadata": {
    "scrolled": true
   },
   "outputs": [],
   "source": []
  },
  {
   "cell_type": "code",
   "execution_count": 5,
   "id": "fae034d2",
   "metadata": {},
   "outputs": [],
   "source": [
    "df.drop_duplicates(keep='first',inplace=True)"
   ]
  },
  {
   "cell_type": "code",
   "execution_count": 6,
   "id": "cf0e4d69",
   "metadata": {},
   "outputs": [
    {
     "data": {
      "text/plain": [
       "0"
      ]
     },
     "execution_count": 6,
     "metadata": {},
     "output_type": "execute_result"
    }
   ],
   "source": [
    "df.duplicated().sum()"
   ]
  },
  {
   "cell_type": "code",
   "execution_count": null,
   "id": "69cf3ad7",
   "metadata": {},
   "outputs": [],
   "source": []
  },
  {
   "cell_type": "markdown",
   "id": "fb162d30",
   "metadata": {},
   "source": [
    "### Print some of the happy text"
   ]
  },
  {
   "cell_type": "code",
   "execution_count": 11,
   "id": "dcd9ca6e",
   "metadata": {},
   "outputs": [
    {
     "data": {
      "text/plain": [
       "8     i have been with petronas for years i feel tha...\n",
       "11    i do feel that running is a divine experience ...\n",
       "14    i have immense sympathy with the general point...\n",
       "15      i do not feel reassured anxiety is on each side\n",
       "22      i have the feeling she was amused and delighted\n",
       "23    i was able to help chai lifeline with your sup...\n",
       "29    i feel more superior dead chicken or grieving ...\n",
       "30    i get giddy over feeling elegant in a perfectl...\n",
       "34    i can t imagine a real life scenario where i w...\n",
       "35    i am not sure what would make me feel content ...\n",
       "Name: Text, dtype: object"
      ]
     },
     "execution_count": 11,
     "metadata": {},
     "output_type": "execute_result"
    }
   ],
   "source": [
    "df.loc[df['Emotion']=='happy','Text'].head(10)"
   ]
  },
  {
   "cell_type": "code",
   "execution_count": null,
   "id": "cbd5ea4c",
   "metadata": {},
   "outputs": [],
   "source": []
  },
  {
   "cell_type": "code",
   "execution_count": null,
   "id": "e3fe1091",
   "metadata": {
    "scrolled": false
   },
   "outputs": [],
   "source": []
  },
  {
   "cell_type": "markdown",
   "id": "c78c18ea",
   "metadata": {},
   "source": [
    "### Print some of the sadness texts"
   ]
  },
  {
   "cell_type": "code",
   "execution_count": 12,
   "id": "0bf3a784",
   "metadata": {},
   "outputs": [
    {
     "data": {
      "text/plain": [
       "0                               i didnt feel humiliated\n",
       "1     i can go from feeling so hopeless to so damned...\n",
       "5     ive been feeling a little burdened lately wasn...\n",
       "10    i feel like i have to make the suffering i m s...\n",
       "13                   i feel low energy i m just thirsty\n",
       "16                 i didnt really feel that embarrassed\n",
       "17              i feel pretty pathetic most of the time\n",
       "18    i started feeling sentimental about dolls i ha...\n",
       "25    i still love my so and wish the best for him i...\n",
       "26    i feel so inhibited in someone elses kitchen l...\n",
       "Name: Text, dtype: object"
      ]
     },
     "execution_count": 12,
     "metadata": {},
     "output_type": "execute_result"
    }
   ],
   "source": [
    "df.loc[df['Emotion']=='sadness','Text'].head(10)"
   ]
  },
  {
   "cell_type": "code",
   "execution_count": null,
   "id": "2baf56ad",
   "metadata": {},
   "outputs": [],
   "source": []
  },
  {
   "cell_type": "code",
   "execution_count": null,
   "id": "4fb433d5",
   "metadata": {
    "scrolled": true
   },
   "outputs": [],
   "source": []
  },
  {
   "cell_type": "markdown",
   "id": "840f8461",
   "metadata": {},
   "source": [
    "### Print some of the surpise texts"
   ]
  },
  {
   "cell_type": "code",
   "execution_count": 13,
   "id": "6f9710d1",
   "metadata": {},
   "outputs": [
    {
     "data": {
      "text/plain": [
       "6      ive been taking or milligrams or times recomme...\n",
       "32     i have seen heard and read over the past coupl...\n",
       "57     i keep feeling pleasantly surprised at his sup...\n",
       "64     i am now nearly finished the week detox and i ...\n",
       "129    i too feel as if i am a stranger in a strange ...\n",
       "145    i started feeling funny and then friday i woke...\n",
       "156    im certainly not going to sit and tell you wha...\n",
       "157    im sorry that there wasnt more humor in this p...\n",
       "168    i want to hold this feeling of shocked awe and...\n",
       "181    i will enclose her verses on her could not wei...\n",
       "Name: Text, dtype: object"
      ]
     },
     "execution_count": 13,
     "metadata": {},
     "output_type": "execute_result"
    }
   ],
   "source": [
    "df.loc[df['Emotion']=='surprise','Text'].head(10)"
   ]
  },
  {
   "cell_type": "markdown",
   "id": "293ddc77",
   "metadata": {},
   "source": [
    "### Plot a countplot of Emotions"
   ]
  },
  {
   "cell_type": "code",
   "execution_count": 14,
   "id": "4834b0d4",
   "metadata": {},
   "outputs": [
    {
     "data": {
      "text/plain": [
       "Index(['Text', 'Emotion'], dtype='object')"
      ]
     },
     "execution_count": 14,
     "metadata": {},
     "output_type": "execute_result"
    }
   ],
   "source": [
    "df.columns"
   ]
  },
  {
   "cell_type": "code",
   "execution_count": 15,
   "id": "24ecbb80",
   "metadata": {
    "scrolled": true
   },
   "outputs": [
    {
     "data": {
      "image/png": "[encoded data removed]",
      "text/plain": [
       "<Figure size 640x480 with 1 Axes>"
      ]
     },
     "metadata": {},
     "output_type": "display_data"
    }
   ],
   "source": [
    "sns.countplot(y='Emotion',data=df)\n",
    "plt.show()"
   ]
  },
  {
   "cell_type": "code",
   "execution_count": null,
   "id": "c6c5c59c",
   "metadata": {
    "scrolled": true
   },
   "outputs": [],
   "source": []
  },
  {
   "cell_type": "markdown",
   "id": "19158d44",
   "metadata": {},
   "source": [
    "### Convert Emotions column to numerical values using Label encoder"
   ]
  },
  {
   "cell_type": "code",
   "execution_count": 7,
   "id": "e6d6dd98",
   "metadata": {},
   "outputs": [],
   "source": [
    "from sklearn.preprocessing import LabelEncoder"
   ]
  },
  {
   "cell_type": "code",
   "execution_count": 8,
   "id": "55ce396a",
   "metadata": {},
   "outputs": [],
   "source": [
    "label_encoder = LabelEncoder()"
   ]
  },
  {
   "cell_type": "code",
   "execution_count": 9,
   "id": "1b75a939",
   "metadata": {},
   "outputs": [],
   "source": [
    "df['Emotion']= label_encoder.fit_transform(df['Emotion'])"
   ]
  },
  {
   "cell_type": "code",
   "execution_count": 10,
   "id": "d83147c1",
   "metadata": {},
   "outputs": [
    {
     "data": {
      "text/html": [
       "<div>\n",
       "<style scoped>\n",
       "    .dataframe tbody tr th:only-of-type {\n",
       "        vertical-align: middle;\n",
       "    }\n",
       "\n",
       "    .dataframe tbody tr th {\n",
       "        vertical-align: top;\n",
       "    }\n",
       "\n",
       "    .dataframe thead th {\n",
       "        text-align: right;\n",
       "    }\n",
       "</style>\n",
       "<table border=\"1\" class=\"dataframe\">\n",
       "  <thead>\n",
       "    <tr style=\"text-align: right;\">\n",
       "      <th></th>\n",
       "      <th>Text</th>\n",
       "      <th>Emotion</th>\n",
       "    </tr>\n",
       "  </thead>\n",
       "  <tbody>\n",
       "    <tr>\n",
       "      <th>0</th>\n",
       "      <td>i didnt feel humiliated</td>\n",
       "      <td>4</td>\n",
       "    </tr>\n",
       "    <tr>\n",
       "      <th>1</th>\n",
       "      <td>i can go from feeling so hopeless to so damned...</td>\n",
       "      <td>4</td>\n",
       "    </tr>\n",
       "    <tr>\n",
       "      <th>2</th>\n",
       "      <td>im grabbing a minute to post i feel greedy wrong</td>\n",
       "      <td>0</td>\n",
       "    </tr>\n",
       "    <tr>\n",
       "      <th>3</th>\n",
       "      <td>i am ever feeling nostalgic about the fireplac...</td>\n",
       "      <td>3</td>\n",
       "    </tr>\n",
       "    <tr>\n",
       "      <th>4</th>\n",
       "      <td>i am feeling grouchy</td>\n",
       "      <td>0</td>\n",
       "    </tr>\n",
       "  </tbody>\n",
       "</table>\n",
       "</div>"
      ],
      "text/plain": [
       "                                                Text  Emotion\n",
       "0                            i didnt feel humiliated        4\n",
       "1  i can go from feeling so hopeless to so damned...        4\n",
       "2   im grabbing a minute to post i feel greedy wrong        0\n",
       "3  i am ever feeling nostalgic about the fireplac...        3\n",
       "4                               i am feeling grouchy        0"
      ]
     },
     "execution_count": 10,
     "metadata": {},
     "output_type": "execute_result"
    }
   ],
   "source": [
    "df.head()"
   ]
  },
  {
   "cell_type": "code",
   "execution_count": null,
   "id": "a58d196e",
   "metadata": {},
   "outputs": [],
   "source": []
  },
  {
   "cell_type": "markdown",
   "id": "d66e0e98",
   "metadata": {},
   "source": [
    "### Store the classes in a list\n",
    "* use le.classes_ to fetch the classes"
   ]
  },
  {
   "cell_type": "code",
   "execution_count": 20,
   "id": "4aeabd95",
   "metadata": {},
   "outputs": [
    {
     "data": {
      "text/plain": [
       "array(['anger', 'fear', 'happy', 'love', 'sadness', 'surprise'],\n",
       "      dtype=object)"
      ]
     },
     "execution_count": 20,
     "metadata": {},
     "output_type": "execute_result"
    }
   ],
   "source": [
    "l1=label_encoder.classes_\n",
    "l1"
   ]
  },
  {
   "cell_type": "code",
   "execution_count": null,
   "id": "2ffd293d",
   "metadata": {
    "scrolled": true
   },
   "outputs": [],
   "source": []
  },
  {
   "cell_type": "markdown",
   "id": "5c709449",
   "metadata": {},
   "source": [
    "### Import WordNetLemmatizer, stopwords"
   ]
  },
  {
   "cell_type": "code",
   "execution_count": 11,
   "id": "f61cac78",
   "metadata": {},
   "outputs": [],
   "source": [
    "from nltk.stem import WordNetLemmatizer\n",
    "from nltk.corpus import stopwords\n"
   ]
  },
  {
   "cell_type": "markdown",
   "id": "9c9ca038",
   "metadata": {},
   "source": [
    "### Create a function to preprocess the text (lemmatize,lower,remove stopwords, remove special characters)"
   ]
  },
  {
   "cell_type": "code",
   "execution_count": 12,
   "id": "efa8aaf2",
   "metadata": {},
   "outputs": [],
   "source": [
    "def preprocess(sentence):\n",
    "    #removes all the special characters and split the sentence at spaces\n",
    "    text = re.sub(r'[^a-zA-Z0-9]+',' ',sentence).split()\n",
    "    \n",
    "    # converts words to lowercase and removes any stopwords\n",
    "    words = [x.lower() for x in text if x not in stopwords.words('english')]\n",
    "    \n",
    "    # Lemmatize the words\n",
    "    lemma = WordNetLemmatizer()\n",
    "    word = [lemma.lemmatize(word) for word in words ]\n",
    "    word = ' '.join(word)\n",
    "    return word\n",
    "    "
   ]
  },
  {
   "cell_type": "markdown",
   "id": "a86170ac",
   "metadata": {},
   "source": [
    "### Apply the function to Text in our dataframe"
   ]
  },
  {
   "cell_type": "code",
   "execution_count": 13,
   "id": "0061f465",
   "metadata": {},
   "outputs": [
    {
     "data": {
      "text/plain": [
       "0                                    didnt feel humiliated\n",
       "1        go feeling hopeless damned hopeful around some...\n",
       "2                im grabbing minute post feel greedy wrong\n",
       "3        ever feeling nostalgic fireplace know still pr...\n",
       "4                                          feeling grouchy\n",
       "                               ...                        \n",
       "21454                           melissa stared friend dism\n",
       "21455    successive state election seen governing party...\n",
       "21456                             vincent irritated dismay\n",
       "21457          kendall hume turned back face dismayed coup\n",
       "21458                                   i dismayed surpris\n",
       "Name: Text, Length: 21456, dtype: object"
      ]
     },
     "execution_count": 13,
     "metadata": {},
     "output_type": "execute_result"
    }
   ],
   "source": [
    "df['Text'].apply(preprocess)"
   ]
  },
  {
   "cell_type": "code",
   "execution_count": null,
   "id": "fdc359a0",
   "metadata": {
    "scrolled": false
   },
   "outputs": [],
   "source": []
  },
  {
   "cell_type": "markdown",
   "id": "19f7ae3c",
   "metadata": {},
   "source": [
    "### View some of the texts after preprocessing"
   ]
  },
  {
   "cell_type": "code",
   "execution_count": 14,
   "id": "420d2f65",
   "metadata": {},
   "outputs": [
    {
     "name": "stdout",
     "output_type": "stream",
     "text": [
      "i didnt feel humiliated\n",
      "\n",
      "i can go from feeling so hopeless to so damned hopeful just from being around someone who cares and is awake\n",
      "\n",
      "im grabbing a minute to post i feel greedy wrong\n",
      "\n",
      "i am ever feeling nostalgic about the fireplace i will know that it is still on the property\n",
      "\n",
      "i am feeling grouchy\n",
      "\n",
      "ive been feeling a little burdened lately wasnt sure why that was\n",
      "\n",
      "ive been taking or milligrams or times recommended amount and ive fallen asleep a lot faster but i also feel like so funny\n",
      "\n",
      "i feel as confused about life as a teenager or as jaded as a year old man\n",
      "\n",
      "i have been with petronas for years i feel that petronas has performed well and made a huge profit\n",
      "\n",
      "i feel romantic too\n",
      "\n"
     ]
    }
   ],
   "source": [
    "for i in range(10):\n",
    "    print(df['Text'][i])\n",
    "    print()"
   ]
  },
  {
   "cell_type": "code",
   "execution_count": 15,
   "id": "d4b40cfe",
   "metadata": {},
   "outputs": [
    {
     "name": "stdout",
     "output_type": "stream",
     "text": [
      "i didnt feel humiliated\n",
      "\n",
      "i can go from feeling so hopeless to so damned hopeful just from being around someone who cares and is awake\n",
      "\n",
      "im grabbing a minute to post i feel greedy wrong\n",
      "\n",
      "i am ever feeling nostalgic about the fireplace i will know that it is still on the property\n",
      "\n",
      "i am feeling grouchy\n",
      "\n",
      "ive been feeling a little burdened lately wasnt sure why that was\n",
      "\n",
      "ive been taking or milligrams or times recommended amount and ive fallen asleep a lot faster but i also feel like so funny\n",
      "\n",
      "i feel as confused about life as a teenager or as jaded as a year old man\n",
      "\n",
      "i have been with petronas for years i feel that petronas has performed well and made a huge profit\n",
      "\n",
      "i feel romantic too\n",
      "\n"
     ]
    }
   ],
   "source": [
    "for i in range(10):\n",
    "    print(df['Text'][i])\n",
    "    print()"
   ]
  },
  {
   "cell_type": "code",
   "execution_count": null,
   "id": "017419a7",
   "metadata": {
    "scrolled": true
   },
   "outputs": [],
   "source": []
  },
  {
   "cell_type": "markdown",
   "id": "77eda1ba",
   "metadata": {},
   "source": [
    "### Convert text to vectors"
   ]
  },
  {
   "cell_type": "code",
   "execution_count": 28,
   "id": "8b686986",
   "metadata": {},
   "outputs": [],
   "source": [
    "from sklearn.feature_extraction.text import CountVectorizer"
   ]
  },
  {
   "cell_type": "code",
   "execution_count": 29,
   "id": "b7a277ab",
   "metadata": {},
   "outputs": [],
   "source": [
    "vectorizer = CountVectorizer()"
   ]
  },
  {
   "cell_type": "code",
   "execution_count": 30,
   "id": "f479ff5e",
   "metadata": {},
   "outputs": [],
   "source": [
    "X = vectorizer.fit_transform(df['Text'])"
   ]
  },
  {
   "cell_type": "code",
   "execution_count": 31,
   "id": "ce20caf5",
   "metadata": {},
   "outputs": [
    {
     "data": {
      "text/plain": [
       "array([[0, 0, 0, ..., 0, 0, 0],\n",
       "       [0, 0, 0, ..., 0, 0, 0],\n",
       "       [0, 0, 0, ..., 0, 0, 0],\n",
       "       ...,\n",
       "       [0, 0, 0, ..., 0, 0, 0],\n",
       "       [0, 0, 0, ..., 0, 0, 0],\n",
       "       [0, 0, 0, ..., 0, 0, 0]], dtype=int64)"
      ]
     },
     "execution_count": 31,
     "metadata": {},
     "output_type": "execute_result"
    }
   ],
   "source": [
    "X.toarray()"
   ]
  },
  {
   "cell_type": "code",
   "execution_count": 32,
   "id": "3a652f4f",
   "metadata": {},
   "outputs": [
    {
     "data": {
      "text/plain": [
       "(21456, 19211)"
      ]
     },
     "execution_count": 32,
     "metadata": {},
     "output_type": "execute_result"
    }
   ],
   "source": [
    "X.shape"
   ]
  },
  {
   "cell_type": "code",
   "execution_count": 33,
   "id": "5487fff6",
   "metadata": {},
   "outputs": [
    {
     "data": {
      "text/plain": [
       "<21456x19211 sparse matrix of type '<class 'numpy.int64'>'\n",
       "\twith 333997 stored elements in Compressed Sparse Row format>"
      ]
     },
     "execution_count": 33,
     "metadata": {},
     "output_type": "execute_result"
    }
   ],
   "source": [
    "X"
   ]
  },
  {
   "cell_type": "markdown",
   "id": "1e1f800b",
   "metadata": {},
   "source": [
    "### Split the dataset into training and Testing set"
   ]
  },
  {
   "cell_type": "code",
   "execution_count": 34,
   "id": "5da4974e",
   "metadata": {},
   "outputs": [],
   "source": [
    "from sklearn.model_selection import train_test_split"
   ]
  },
  {
   "cell_type": "code",
   "execution_count": 35,
   "id": "03a0eebf",
   "metadata": {},
   "outputs": [
    {
     "data": {
      "text/plain": [
       "<15019x19211 sparse matrix of type '<class 'numpy.int64'>'\n",
       "\twith 233843 stored elements in Compressed Sparse Row format>"
      ]
     },
     "execution_count": 35,
     "metadata": {},
     "output_type": "execute_result"
    }
   ],
   "source": [
    "X_train, X_test, y_train, y_test = train_test_split(X,y, test_size = 0.3)\n",
    "X_train"
   ]
  },
  {
   "cell_type": "markdown",
   "id": "2e790efc",
   "metadata": {},
   "source": [
    "### Create a Random forest classifier model"
   ]
  },
  {
   "cell_type": "code",
   "execution_count": 36,
   "id": "2601ff2b",
   "metadata": {},
   "outputs": [],
   "source": [
    "from sklearn.ensemble import RandomForestClassifier"
   ]
  },
  {
   "cell_type": "code",
   "execution_count": 37,
   "id": "53a8f0b0",
   "metadata": {},
   "outputs": [],
   "source": [
    "model = RandomForestClassifier(n_estimators=200)"
   ]
  },
  {
   "cell_type": "markdown",
   "id": "ddf2e513",
   "metadata": {},
   "source": [
    "### TRAIN THE MODEL"
   ]
  },
  {
   "cell_type": "code",
   "execution_count": 38,
   "id": "31834ed6",
   "metadata": {},
   "outputs": [
    {
     "data": {
      "text/html": [
       "<style>#sk-container-id-1 {color: black;}#sk-container-id-1 pre{padding: 0;}#sk-container-id-1 div.sk-toggleable {background-color: white;}#sk-container-id-1 label.sk-toggleable__label {cursor: pointer;display: block;width: 100%;margin-bottom: 0;padding: 0.3em;box-sizing: border-box;text-align: center;}#sk-container-id-1 label.sk-toggleable__label-arrow:before {content: \"▸\";float: left;margin-right: 0.25em;color: #696969;}#sk-container-id-1 label.sk-toggleable__label-arrow:hover:before {color: black;}#sk-container-id-1 div.sk-estimator:hover label.sk-toggleable__label-arrow:before {color: black;}#sk-container-id-1 div.sk-toggleable__content {max-height: 0;max-width: 0;overflow: hidden;text-align: left;background-color: #f0f8ff;}#sk-container-id-1 div.sk-toggleable__content pre {margin: 0.2em;color: black;border-radius: 0.25em;background-color: #f0f8ff;}#sk-container-id-1 input.sk-toggleable__control:checked~div.sk-toggleable__content {max-height: 200px;max-width: 100%;overflow: auto;}#sk-container-id-1 input.sk-toggleable__control:checked~label.sk-toggleable__label-arrow:before {content: \"▾\";}#sk-container-id-1 div.sk-estimator input.sk-toggleable__control:checked~label.sk-toggleable__label {background-color: #d4ebff;}#sk-container-id-1 div.sk-label input.sk-toggleable__control:checked~label.sk-toggleable__label {background-color: #d4ebff;}#sk-container-id-1 input.sk-hidden--visually {border: 0;clip: rect(1px 1px 1px 1px);clip: rect(1px, 1px, 1px, 1px);height: 1px;margin: -1px;overflow: hidden;padding: 0;position: absolute;width: 1px;}#sk-container-id-1 div.sk-estimator {font-family: monospace;background-color: #f0f8ff;border: 1px dotted black;border-radius: 0.25em;box-sizing: border-box;margin-bottom: 0.5em;}#sk-container-id-1 div.sk-estimator:hover {background-color: #d4ebff;}#sk-container-id-1 div.sk-parallel-item::after {content: \"\";width: 100%;border-bottom: 1px solid gray;flex-grow: 1;}#sk-container-id-1 div.sk-label:hover label.sk-toggleable__label {background-color: #d4ebff;}#sk-container-id-1 div.sk-serial::before {content: \"\";position: absolute;border-left: 1px solid gray;box-sizing: border-box;top: 0;bottom: 0;left: 50%;z-index: 0;}#sk-container-id-1 div.sk-serial {display: flex;flex-direction: column;align-items: center;background-color: white;padding-right: 0.2em;padding-left: 0.2em;position: relative;}#sk-container-id-1 div.sk-item {position: relative;z-index: 1;}#sk-container-id-1 div.sk-parallel {display: flex;align-items: stretch;justify-content: center;background-color: white;position: relative;}#sk-container-id-1 div.sk-item::before, #sk-container-id-1 div.sk-parallel-item::before {content: \"\";position: absolute;border-left: 1px solid gray;box-sizing: border-box;top: 0;bottom: 0;left: 50%;z-index: -1;}#sk-container-id-1 div.sk-parallel-item {display: flex;flex-direction: column;z-index: 1;position: relative;background-color: white;}#sk-container-id-1 div.sk-parallel-item:first-child::after {align-self: flex-end;width: 50%;}#sk-container-id-1 div.sk-parallel-item:last-child::after {align-self: flex-start;width: 50%;}#sk-container-id-1 div.sk-parallel-item:only-child::after {width: 0;}#sk-container-id-1 div.sk-dashed-wrapped {border: 1px dashed gray;margin: 0 0.4em 0.5em 0.4em;box-sizing: border-box;padding-bottom: 0.4em;background-color: white;}#sk-container-id-1 div.sk-label label {font-family: monospace;font-weight: bold;display: inline-block;line-height: 1.2em;}#sk-container-id-1 div.sk-label-container {text-align: center;}#sk-container-id-1 div.sk-container {/* jupyter's `normalize.less` sets `[hidden] { display: none; }` but bootstrap.min.css set `[hidden] { display: none !important; }` so we also need the `!important` here to be able to override the default hidden behavior on the sphinx rendered scikit-learn.org. See: https://github.com/scikit-learn/scikit-learn/issues/21755 */display: inline-block !important;position: relative;}#sk-container-id-1 div.sk-text-repr-fallback {display: none;}</style><div id=\"sk-container-id-1\" class=\"sk-top-container\"><div class=\"sk-text-repr-fallback\"><pre>RandomForestClassifier(n_estimators=200)</pre><b>In a Jupyter environment, please rerun this cell to show the HTML representation or trust the notebook. <br />On GitHub, the HTML representation is unable to render, please try loading this page with nbviewer.org.</b></div><div class=\"sk-container\" hidden><div class=\"sk-item\"><div class=\"sk-estimator sk-toggleable\"><input class=\"sk-toggleable__control sk-hidden--visually\" id=\"sk-estimator-id-1\" type=\"checkbox\" checked><label for=\"sk-estimator-id-1\" class=\"sk-toggleable__label sk-toggleable__label-arrow\">RandomForestClassifier</label><div class=\"sk-toggleable__content\"><pre>RandomForestClassifier(n_estimators=200)</pre></div></div></div></div></div>"
      ],
      "text/plain": [
       "RandomForestClassifier(n_estimators=200)"
      ]
     },
     "execution_count": 38,
     "metadata": {},
     "output_type": "execute_result"
    }
   ],
   "source": [
    "model.fit(X_train,y_train)"
   ]
  },
  {
   "cell_type": "markdown",
   "id": "bff836e3",
   "metadata": {},
   "source": [
    "### Check the score of the model"
   ]
  },
  {
   "cell_type": "code",
   "execution_count": 39,
   "id": "821b3c3a",
   "metadata": {},
   "outputs": [
    {
     "data": {
      "text/plain": [
       "0.9984020241028031"
      ]
     },
     "execution_count": 39,
     "metadata": {},
     "output_type": "execute_result"
    }
   ],
   "source": [
    "model.score(X_train, y_train)"
   ]
  },
  {
   "cell_type": "code",
   "execution_count": null,
   "id": "74b8eada",
   "metadata": {},
   "outputs": [],
   "source": []
  },
  {
   "cell_type": "markdown",
   "id": "d15ebf84",
   "metadata": {},
   "source": [
    "### Make predictions with X_test"
   ]
  },
  {
   "cell_type": "code",
   "execution_count": 40,
   "id": "d42d09c2",
   "metadata": {},
   "outputs": [],
   "source": [
    "prediction = model.predict(X_test)"
   ]
  },
  {
   "cell_type": "markdown",
   "id": "247d311d",
   "metadata": {},
   "source": [
    "### Check the accuracy of our prediction"
   ]
  },
  {
   "cell_type": "code",
   "execution_count": 41,
   "id": "a00adad5",
   "metadata": {},
   "outputs": [],
   "source": [
    "from sklearn.metrics import accuracy_score, confusion_matrix, classification_report"
   ]
  },
  {
   "cell_type": "code",
   "execution_count": null,
   "id": "4bf92784",
   "metadata": {},
   "outputs": [],
   "source": []
  },
  {
   "cell_type": "markdown",
   "id": "833e9694",
   "metadata": {},
   "source": [
    "### Create confusion matrix"
   ]
  },
  {
   "cell_type": "code",
   "execution_count": null,
   "id": "aa2a0409",
   "metadata": {},
   "outputs": [],
   "source": []
  },
  {
   "cell_type": "markdown",
   "id": "c7b04d19",
   "metadata": {},
   "source": [
    "### Create classification report"
   ]
  },
  {
   "cell_type": "code",
   "execution_count": 42,
   "id": "4908bf35",
   "metadata": {},
   "outputs": [
    {
     "ename": "NameError",
     "evalue": "name 'metrics' is not defined",
     "output_type": "error",
     "traceback": [
      "\u001b[1;31m---------------------------------------------------------------------------\u001b[0m",
      "\u001b[1;31mNameError\u001b[0m                                 Traceback (most recent call last)",
      "Cell \u001b[1;32mIn[42], line 1\u001b[0m\n\u001b[1;32m----> 1\u001b[0m \u001b[38;5;28mprint\u001b[39m(metrics\u001b[38;5;241m.\u001b[39mclassification_report(y_test,prediction))\n",
      "\u001b[1;31mNameError\u001b[0m: name 'metrics' is not defined"
     ]
    }
   ],
   "source": [
    "print(metrics.classification_report(y_test,prediction))"
   ]
  },
  {
   "cell_type": "markdown",
   "id": "f5545c8b",
   "metadata": {},
   "source": [
    "***"
   ]
  },
  {
   "cell_type": "markdown",
   "id": "148ad057",
   "metadata": {},
   "source": [
    "# <center><a href = \"http://edure.in/\"><span style = \"color:CornflowerBlue; font-family:Courier New;font-size:40px\">EDURE LEARNING</span></a></center>"
   ]
  }
 ],
 "metadata": {
  "kernelspec": {
   "display_name": "Python 3 (ipykernel)",
   "language": "python",
   "name": "python3"
  },
  "language_info": {
   "codemirror_mode": {
    "name": "ipython",
    "version": 3
   },
   "file_extension": ".py",
   "mimetype": "text/x-python",
   "name": "python",
   "nbconvert_exporter": "python",
   "pygments_lexer": "ipython3",
   "version": "3.11.5"
  }
 },
 "nbformat": 4,
 "nbformat_minor": 5
}
